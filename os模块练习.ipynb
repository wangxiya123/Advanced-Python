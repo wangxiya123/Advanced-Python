{
 "cells": [
  {
   "cell_type": "code",
   "execution_count": 1,
   "metadata": {
    "collapsed": true
   },
   "outputs": [],
   "source": [
    "import os"
   ]
  },
  {
   "cell_type": "code",
   "execution_count": 2,
   "metadata": {
    "collapsed": false
   },
   "outputs": [
    {
     "data": {
      "text/plain": [
       "'C:\\\\Users\\\\Wang'"
      ]
     },
     "execution_count": 2,
     "metadata": {},
     "output_type": "execute_result"
    }
   ],
   "source": [
    "os.getcwd()"
   ]
  },
  {
   "cell_type": "code",
   "execution_count": 3,
   "metadata": {
    "collapsed": false
   },
   "outputs": [
    {
     "data": {
      "text/plain": [
       "'.'"
      ]
     },
     "execution_count": 3,
     "metadata": {},
     "output_type": "execute_result"
    }
   ],
   "source": [
    "os.curdir"
   ]
  },
  {
   "cell_type": "code",
   "execution_count": 4,
   "metadata": {
    "collapsed": false
   },
   "outputs": [
    {
     "data": {
      "text/plain": [
       "['.bash_history',\n",
       " '.defaults-0.1.0.ini',\n",
       " '.eclipse',\n",
       " '.gitconfig',\n",
       " '.idlerc',\n",
       " '.ipynb_checkpoints',\n",
       " '.ipython',\n",
       " '.jupyter',\n",
       " '.matplotlib',\n",
       " '.p2',\n",
       " '.pip',\n",
       " '.PyCharm2017.3',\n",
       " '.spyder',\n",
       " '.spyder-py3',\n",
       " '.tooling',\n",
       " '1016.ipynb',\n",
       " '1030代码分析.ipynb',\n",
       " '1113.ipynb',\n",
       " '1120爬虫.ipynb',\n",
       " '1204.ipynb',\n",
       " '201611680170-4.5作业.ipynb',\n",
       " '201611680170-王茜亚（期末考试）.ipynb',\n",
       " '201611680170王茜亚期中考试.ipynb',\n",
       " '20180911.ipynb',\n",
       " '20180918.ipynb',\n",
       " '20181016.ipynb',\n",
       " '20181023.ipynb',\n",
       " '20181023_t.ipynb',\n",
       " '20181023_teacher.ipynb',\n",
       " '20181106_t.ipynb',\n",
       " '20181127.ipynb',\n",
       " '20181204.ipynb',\n",
       " '20191009.ipynb',\n",
       " '3-30.ipynb',\n",
       " '3D Objects',\n",
       " '4.12作业.ipynb',\n",
       " '4.19作业.ipynb',\n",
       " 'AppData',\n",
       " 'Application Data',\n",
       " 'chinese_eg.txt',\n",
       " 'Contacts',\n",
       " 'Cookies',\n",
       " 'Desktop',\n",
       " 'Documents',\n",
       " 'Downloads',\n",
       " 'eclipse',\n",
       " 'eclipse-workspace',\n",
       " 'Exercise.ipynb',\n",
       " 'Favorites',\n",
       " 'Heartsome Workspace',\n",
       " 'IntelGraphicsProfiles',\n",
       " 'Links',\n",
       " 'Local Settings',\n",
       " 'MicrosoftEdgeBackups',\n",
       " 'Music',\n",
       " 'My Documents',\n",
       " 'NetHood',\n",
       " 'nltk_test.ipynb',\n",
       " 'NTUSER.DAT',\n",
       " 'ntuser.dat.LOG1',\n",
       " 'ntuser.dat.LOG2',\n",
       " 'NTUSER.DAT{539b35c4-666f-11e8-b72e-a1c3d5f8ce80}.TM.blf',\n",
       " 'NTUSER.DAT{539b35c4-666f-11e8-b72e-a1c3d5f8ce80}.TMContainer00000000000000000001.regtrans-ms',\n",
       " 'NTUSER.DAT{539b35c4-666f-11e8-b72e-a1c3d5f8ce80}.TMContainer00000000000000000002.regtrans-ms',\n",
       " 'ntuser.ini',\n",
       " 'OneDrive',\n",
       " 'os模块练习.ipynb',\n",
       " 'Pictures',\n",
       " 'PrintHood',\n",
       " 'Recent',\n",
       " 'Roaming',\n",
       " 'Saved Games',\n",
       " 'Searches',\n",
       " 'SendTo',\n",
       " 'source',\n",
       " 'sys模块简介.ipynb',\n",
       " 'Templates',\n",
       " 'TMX Editor Workspace',\n",
       " 'tokenize.ipynb',\n",
       " 'Untitled.ipynb',\n",
       " 'Untitled1.ipynb',\n",
       " 'Untitled2.ipynb',\n",
       " 'Untitled3.ipynb',\n",
       " 'Untitled4.ipynb',\n",
       " 'Untitled5.ipynb',\n",
       " 'Videos',\n",
       " 'xu.ipynb',\n",
       " '「开始」菜单',\n",
       " '个人期末项目.ipynb',\n",
       " '四库全书爬虫.ipynb',\n",
       " '四库全书首页.ipynb',\n",
       " '基础任务.ipynb',\n",
       " '复习练习.ipynb',\n",
       " '康熙字典.ipynb',\n",
       " '期中考试非标准参考答案.ipynb',\n",
       " '爬取康熙字典.py',\n",
       " '爬取文字内容.ipynb',\n",
       " '练习题.ipynb']"
      ]
     },
     "execution_count": 4,
     "metadata": {},
     "output_type": "execute_result"
    }
   ],
   "source": [
    "os.listdir(os.curdir)"
   ]
  },
  {
   "cell_type": "code",
   "execution_count": 12,
   "metadata": {
    "collapsed": false
   },
   "outputs": [
    {
     "name": "stdout",
     "output_type": "stream",
     "text": [
      "test.file\n"
     ]
    },
    {
     "data": {
      "text/plain": [
       "False"
      ]
     },
     "execution_count": 12,
     "metadata": {},
     "output_type": "execute_result"
    }
   ],
   "source": [
    "f = open(\"test.file\", \"w\")\n",
    "f.close()\n",
    "\n",
    "print (\"test.file\") in os.listdir(os.curdir)"
   ]
  },
  {
   "cell_type": "code",
   "execution_count": 14,
   "metadata": {
    "collapsed": false
   },
   "outputs": [
    {
     "data": {
      "text/plain": [
       "'\\r\\n'"
      ]
     },
     "execution_count": 14,
     "metadata": {},
     "output_type": "execute_result"
    }
   ],
   "source": [
    "os.linesep"
   ]
  },
  {
   "cell_type": "code",
   "execution_count": 15,
   "metadata": {
    "collapsed": false
   },
   "outputs": [
    {
     "data": {
      "text/plain": [
       "'\\\\'"
      ]
     },
     "execution_count": 15,
     "metadata": {},
     "output_type": "execute_result"
    }
   ],
   "source": [
    "os.sep"
   ]
  },
  {
   "cell_type": "code",
   "execution_count": 16,
   "metadata": {
    "collapsed": false
   },
   "outputs": [
    {
     "data": {
      "text/plain": [
       "';'"
      ]
     },
     "execution_count": 16,
     "metadata": {},
     "output_type": "execute_result"
    }
   ],
   "source": [
    "os.pathsep"
   ]
  }
 ],
 "metadata": {
  "kernelspec": {
   "display_name": "Python 3",
   "language": "python",
   "name": "python3"
  },
  "language_info": {
   "codemirror_mode": {
    "name": "ipython",
    "version": 3
   },
   "file_extension": ".py",
   "mimetype": "text/x-python",
   "name": "python",
   "nbconvert_exporter": "python",
   "pygments_lexer": "ipython3",
   "version": "3.6.0"
  }
 },
 "nbformat": 4,
 "nbformat_minor": 2
}
