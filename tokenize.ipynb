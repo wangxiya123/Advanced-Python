{
 "cells": [
  {
   "cell_type": "code",
   "execution_count": 1,
   "metadata": {
    "collapsed": true
   },
   "outputs": [],
   "source": [
    "para='''According to Digital Trends it is now safe to use FaceTime again.\n",
    "\n",
    "据“Digital Trends”报道 ，现在苹果的FaceTime可以安全使用了。\n",
    "\n",
    "The app is safe long as users update their iDevice with a fix that Apple released this week.\n",
    "\n",
    "苹果用户更新本周发布的修复版本之后就可以安全使用。\n",
    "\n",
    "The new iOS 12.1.4 will resolve what has been considered a troubling FaceTime flaw that allowed people eavesdrop on the people they were calling.\n",
    "\n",
    "新的iOS 12.1.4将解决FaceTime漏洞问题，该漏洞能够窃听呼叫通话。\n",
    "\n",
    "To update the operating system on your iPhone, iPad, or iPod Touch, select Settings, then tap on General, and Software Update.\n",
    "\n",
    "要更新iPhone、iPad或iPod Touch上的操作系统的话，请选择“设置”，然后单击“通用”和“软件更新”。\n",
    "\n",
    "Finally, select Download and Install.\n",
    "\n",
    "最后，选择下载和安装。\n",
    "\n",
    "'''"
   ]
  },
  {
   "cell_type": "code",
   "execution_count": 2,
   "metadata": {
    "collapsed": false
   },
   "outputs": [
    {
     "data": {
      "text/plain": [
       "['According to Digital Trends it is now safe to use FaceTime again',\n",
       " '\\n\\n据“Digital Trends”报道 ，现在苹果的FaceTime可以安全使用了。\\n\\nThe app is safe long as users update their iDevice with a fix that Apple released this week',\n",
       " '\\n\\n苹果用户更新本周发布的修复版本之后就可以安全使用。\\n\\nThe new iOS 12',\n",
       " '1',\n",
       " '4 will resolve what has been considered a troubling FaceTime flaw that allowed people eavesdrop on the people they were calling',\n",
       " '\\n\\n新的iOS 12',\n",
       " '1',\n",
       " '4将解决FaceTime漏洞问题，该漏洞能够窃听呼叫通话。\\n\\nTo update the operating system on your iPhone, iPad, or iPod Touch, select Settings, then tap on General, and Software Update',\n",
       " '\\n\\n要更新iPhone、iPad或iPod Touch上的操作系统的话，请选择“设置”，然后单击“通用”和“软件更新”。\\n\\nFinally, select Download and Install',\n",
       " '\\n\\n最后，选择下载和安装。\\n\\n']"
      ]
     },
     "execution_count": 2,
     "metadata": {},
     "output_type": "execute_result"
    }
   ],
   "source": [
    "para.split('.')"
   ]
  },
  {
   "cell_type": "code",
   "execution_count": 3,
   "metadata": {
    "collapsed": true
   },
   "outputs": [],
   "source": [
    "from nltk.tokenize import sent_tokenize"
   ]
  },
  {
   "cell_type": "code",
   "execution_count": 4,
   "metadata": {
    "collapsed": false
   },
   "outputs": [
    {
     "data": {
      "text/plain": [
       "['According to Digital Trends it is now safe to use FaceTime again.',\n",
       " '据“Digital Trends”报道 ，现在苹果的FaceTime可以安全使用了。\\n\\nThe app is safe long as users update their iDevice with a fix that Apple released this week.',\n",
       " '苹果用户更新本周发布的修复版本之后就可以安全使用。\\n\\nThe new iOS 12.1.4 will resolve what has been considered a troubling FaceTime flaw that allowed people eavesdrop on the people they were calling.',\n",
       " '新的iOS 12.1.4将解决FaceTime漏洞问题，该漏洞能够窃听呼叫通话。\\n\\nTo update the operating system on your iPhone, iPad, or iPod Touch, select Settings, then tap on General, and Software Update.',\n",
       " '要更新iPhone、iPad或iPod Touch上的操作系统的话，请选择“设置”，然后单击“通用”和“软件更新”。\\n\\nFinally, select Download and Install.',\n",
       " '最后，选择下载和安装。']"
      ]
     },
     "execution_count": 4,
     "metadata": {},
     "output_type": "execute_result"
    }
   ],
   "source": [
    "sent_tokenize(para)"
   ]
  },
  {
   "cell_type": "code",
   "execution_count": 5,
   "metadata": {
    "collapsed": true
   },
   "outputs": [],
   "source": [
    "from nltk.tokenize import word_tokenize"
   ]
  },
  {
   "cell_type": "code",
   "execution_count": 6,
   "metadata": {
    "collapsed": false
   },
   "outputs": [
    {
     "data": {
      "text/plain": [
       "['According',\n",
       " 'to',\n",
       " 'Digital',\n",
       " 'Trends',\n",
       " 'it',\n",
       " 'is',\n",
       " 'now',\n",
       " 'safe',\n",
       " 'to',\n",
       " 'use',\n",
       " 'FaceTime',\n",
       " 'again',\n",
       " '.']"
      ]
     },
     "execution_count": 6,
     "metadata": {},
     "output_type": "execute_result"
    }
   ],
   "source": [
    "word_tokenize(sent_tokenize(para)[0])"
   ]
  },
  {
   "cell_type": "code",
   "execution_count": 7,
   "metadata": {
    "collapsed": true
   },
   "outputs": [],
   "source": [
    "from nltk.corpus import wordnet"
   ]
  },
  {
   "cell_type": "code",
   "execution_count": 8,
   "metadata": {
    "collapsed": true
   },
   "outputs": [],
   "source": [
    "sys=wordnet.synsets('child')[0]"
   ]
  },
  {
   "cell_type": "code",
   "execution_count": 9,
   "metadata": {
    "collapsed": false
   },
   "outputs": [
    {
     "data": {
      "text/plain": [
       "'child.n.01'"
      ]
     },
     "execution_count": 9,
     "metadata": {},
     "output_type": "execute_result"
    }
   ],
   "source": [
    "sys.name()"
   ]
  },
  {
   "cell_type": "code",
   "execution_count": 10,
   "metadata": {
    "collapsed": true
   },
   "outputs": [],
   "source": [
    "from nltk.corpus import wordnet as wn"
   ]
  },
  {
   "cell_type": "code",
   "execution_count": 11,
   "metadata": {
    "collapsed": true
   },
   "outputs": [],
   "source": [
    "c=wn.synset('child.n.01')"
   ]
  },
  {
   "cell_type": "code",
   "execution_count": 12,
   "metadata": {
    "collapsed": true
   },
   "outputs": [],
   "source": [
    "types_of_c=c.hyponyms()"
   ]
  },
  {
   "cell_type": "code",
   "execution_count": 13,
   "metadata": {
    "collapsed": false
   },
   "outputs": [
    {
     "data": {
      "text/plain": [
       "[Synset('bairn.n.01'),\n",
       " Synset('buster.n.02'),\n",
       " Synset('changeling.n.02'),\n",
       " Synset('child_prodigy.n.01'),\n",
       " Synset('foster-child.n.01'),\n",
       " Synset('imp.n.02'),\n",
       " Synset('kiddy.n.01'),\n",
       " Synset('orphan.n.01'),\n",
       " Synset('peanut.n.03'),\n",
       " Synset('pickaninny.n.01'),\n",
       " Synset('poster_child.n.01'),\n",
       " Synset('preschooler.n.01'),\n",
       " Synset('silly.n.01'),\n",
       " Synset('sprog.n.02'),\n",
       " Synset('toddler.n.01'),\n",
       " Synset('urchin.n.01'),\n",
       " Synset('waif.n.01')]"
      ]
     },
     "execution_count": 13,
     "metadata": {},
     "output_type": "execute_result"
    }
   ],
   "source": [
    "types_of_c"
   ]
  },
  {
   "cell_type": "code",
   "execution_count": 14,
   "metadata": {
    "collapsed": true
   },
   "outputs": [],
   "source": [
    "from nltk import FreqDist"
   ]
  },
  {
   "cell_type": "code",
   "execution_count": 15,
   "metadata": {
    "collapsed": true
   },
   "outputs": [],
   "source": [
    "fdist1=FreqDist(para)"
   ]
  },
  {
   "cell_type": "code",
   "execution_count": 16,
   "metadata": {
    "collapsed": false
   },
   "outputs": [
    {
     "data": {
      "text/plain": [
       "FreqDist({'\\n': 20,\n",
       "          ' ': 79,\n",
       "          ',': 6,\n",
       "          '.': 9,\n",
       "          '1': 4,\n",
       "          '2': 2,\n",
       "          '4': 2,\n",
       "          'A': 2,\n",
       "          'D': 4,\n",
       "          'F': 5,\n",
       "          'G': 1,\n",
       "          'I': 1,\n",
       "          'O': 2,\n",
       "          'P': 6,\n",
       "          'S': 4,\n",
       "          'T': 11,\n",
       "          'U': 1,\n",
       "          'a': 37,\n",
       "          'b': 2,\n",
       "          'c': 13,\n",
       "          'd': 18,\n",
       "          'e': 60,\n",
       "          'f': 5,\n",
       "          'g': 9,\n",
       "          'h': 17,\n",
       "          'i': 34,\n",
       "          'k': 1,\n",
       "          'l': 24,\n",
       "          'm': 5,\n",
       "          'n': 25,\n",
       "          'o': 28,\n",
       "          'p': 14,\n",
       "          'r': 16,\n",
       "          's': 22,\n",
       "          't': 30,\n",
       "          'u': 8,\n",
       "          'v': 3,\n",
       "          'w': 11,\n",
       "          'x': 1,\n",
       "          'y': 4,\n",
       "          '“': 4,\n",
       "          '”': 4,\n",
       "          '、': 1,\n",
       "          '。': 5,\n",
       "          '上': 1,\n",
       "          '下': 1,\n",
       "          '之': 1,\n",
       "          '了': 1,\n",
       "          '以': 2,\n",
       "          '件': 1,\n",
       "          '作': 1,\n",
       "          '使': 2,\n",
       "          '修': 1,\n",
       "          '全': 2,\n",
       "          '决': 1,\n",
       "          '击': 1,\n",
       "          '单': 1,\n",
       "          '发': 1,\n",
       "          '叫': 1,\n",
       "          '可': 2,\n",
       "          '后': 3,\n",
       "          '听': 1,\n",
       "          '周': 1,\n",
       "          '呼': 1,\n",
       "          '和': 2,\n",
       "          '在': 1,\n",
       "          '复': 1,\n",
       "          '够': 1,\n",
       "          '安': 3,\n",
       "          '将': 1,\n",
       "          '就': 1,\n",
       "          '布': 1,\n",
       "          '或': 1,\n",
       "          '户': 1,\n",
       "          '报': 1,\n",
       "          '择': 2,\n",
       "          '据': 1,\n",
       "          '操': 1,\n",
       "          '新': 4,\n",
       "          '更': 3,\n",
       "          '最': 1,\n",
       "          '本': 2,\n",
       "          '果': 2,\n",
       "          '洞': 2,\n",
       "          '漏': 2,\n",
       "          '然': 1,\n",
       "          '版': 1,\n",
       "          '现': 1,\n",
       "          '用': 4,\n",
       "          '的': 5,\n",
       "          '窃': 1,\n",
       "          '系': 1,\n",
       "          '统': 1,\n",
       "          '置': 1,\n",
       "          '能': 1,\n",
       "          '苹': 2,\n",
       "          '装': 1,\n",
       "          '要': 1,\n",
       "          '解': 1,\n",
       "          '设': 1,\n",
       "          '话': 2,\n",
       "          '该': 1,\n",
       "          '请': 1,\n",
       "          '软': 1,\n",
       "          '载': 1,\n",
       "          '选': 2,\n",
       "          '通': 2,\n",
       "          '道': 1,\n",
       "          '问': 1,\n",
       "          '题': 1,\n",
       "          '，': 5})"
      ]
     },
     "execution_count": 16,
     "metadata": {},
     "output_type": "execute_result"
    }
   ],
   "source": [
    "fdist1"
   ]
  },
  {
   "cell_type": "code",
   "execution_count": 17,
   "metadata": {
    "collapsed": false
   },
   "outputs": [
    {
     "data": {
      "text/plain": [
       "[(' ', 79), ('e', 60), ('a', 37), ('i', 34), ('t', 30)]"
      ]
     },
     "execution_count": 17,
     "metadata": {},
     "output_type": "execute_result"
    }
   ],
   "source": [
    "fdist1.most_common(5)"
   ]
  },
  {
   "cell_type": "code",
   "execution_count": 18,
   "metadata": {
    "collapsed": true
   },
   "outputs": [],
   "source": [
    "import matplotlib"
   ]
  },
  {
   "cell_type": "code",
   "execution_count": 20,
   "metadata": {
    "collapsed": false
   },
   "outputs": [
    {
     "data": {
      "image/png": "[encoded data removed]",
      "text/plain": [
       "<Figure size 432x288 with 1 Axes>"
      ]
     },
     "metadata": {
      "needs_background": "light"
     },
     "output_type": "display_data"
    }
   ],
   "source": [
    "fdist1.plot(5,cumulative=True)"
   ]
  },
  {
   "cell_type": "code",
   "execution_count": 21,
   "metadata": {
    "collapsed": true
   },
   "outputs": [],
   "source": [
    "import matplotlib.pyplot as plt"
   ]
  },
  {
   "cell_type": "code",
   "execution_count": 22,
   "metadata": {
    "collapsed": false
   },
   "outputs": [
    {
     "data": {
      "text/plain": [
       "<matplotlib.axes._subplots.AxesSubplot at 0x277101f9f98>"
      ]
     },
     "execution_count": 22,
     "metadata": {},
     "output_type": "execute_result"
    },
    {
     "data": {
      "image/png": "[encoded data removed]",
      "text/plain": [
       "<Figure size 432x288 with 1 Axes>"
      ]
     },
     "metadata": {
      "needs_background": "light"
     },
     "output_type": "display_data"
    }
   ],
   "source": [
    "plt.axes(aspect=1)"
   ]
  },
  {
   "cell_type": "code",
   "execution_count": 23,
   "metadata": {
    "collapsed": true
   },
   "outputs": [],
   "source": [
    "labels=' ','a','b','c','d'"
   ]
  },
  {
   "cell_type": "code",
   "execution_count": 24,
   "metadata": {
    "collapsed": true
   },
   "outputs": [],
   "source": [
    "fracs=[249,158,98,94,90]"
   ]
  },
  {
   "cell_type": "code",
   "execution_count": 26,
   "metadata": {
    "collapsed": false
   },
   "outputs": [
    {
     "data": {
      "text/plain": [
       "([<matplotlib.patches.Wedge at 0x277102d2978>,\n",
       "  <matplotlib.patches.Wedge at 0x277102dd400>,\n",
       "  <matplotlib.patches.Wedge at 0x277102ddda0>,\n",
       "  <matplotlib.patches.Wedge at 0x277102e8780>,\n",
       "  <matplotlib.patches.Wedge at 0x277102f5160>],\n",
       " [Text(-0.9973503479524061, 0.4639959950680768, ' '),\n",
       "  Text(-0.16489102996720964, -1.0875711233001513, 'a'),\n",
       "  Text(0.9354718171471409, -0.5786989539678006, 'b'),\n",
       "  Text(1.043654449837651, 0.34754192457036026, 'c'),\n",
       "  Text(0.43884105218170094, 1.0086716665595687, 'd')],\n",
       " [Text(-0.5440092807013124, 0.2530887245825873, '36.1 %'),\n",
       "  Text(-0.08994056180029615, -0.5932206127091734, '22.9 %'),\n",
       "  Text(0.5102573548075313, -0.3156539748915275, '14.2 %'),\n",
       "  Text(0.5692660635478096, 0.18956832249292374, '13.6 %'),\n",
       "  Text(0.23936784664456412, 0.5501845453961284, '13.1 %')])"
      ]
     },
     "execution_count": 26,
     "metadata": {},
     "output_type": "execute_result"
    },
    {
     "data": {
      "image/png": "[encoded data removed]",
      "text/plain": [
       "<Figure size 432x288 with 1 Axes>"
      ]
     },
     "metadata": {},
     "output_type": "display_data"
    }
   ],
   "source": [
    "plt.pie(x=fracs,labels=labels,autopct='%3.1f %%',shadow=True,labeldistance=1.1,startangle=90,pctdistance=0.6)"
   ]
  }
 ],
 "metadata": {
  "kernelspec": {
   "display_name": "Python 3",
   "language": "python",
   "name": "python3"
  },
  "language_info": {
   "codemirror_mode": {
    "name": "ipython",
    "version": 3
   },
   "file_extension": ".py",
   "mimetype": "text/x-python",
   "name": "python",
   "nbconvert_exporter": "python",
   "pygments_lexer": "ipython3",
   "version": "3.6.0"
  }
 },
 "nbformat": 4,
 "nbformat_minor": 2
}
