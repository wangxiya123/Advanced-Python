{
 "cells": [
  {
   "cell_type": "code",
   "execution_count": 27,
   "metadata": {
    "collapsed": true,
    "deletable": true,
    "editable": true
   },
   "outputs": [],
   "source": [
    "para='''On the first long weekend of her employer’s experiment with a four-day working week, Kirsten Taylor freaked out a little bit. Like a housework hurricane, she got through mounds of clothes-washing, weeded the garden, cleaned the windows and mowed the lawn.\n",
    "\n",
    "　　在公司首次试验四天工作制的第一个长周末，柯尔斯顿?泰勒感觉有点抓狂。就像经历了一场家务飓风，她洗了一大堆衣服，除了花园的杂草，擦了窗户，还修剪了草坪。\n",
    "\n",
    "　　It had been lovely to spend extra time with her 21-month-old son, but by the end of the third day off she was shattered.\n",
    "\n",
    "　　能够和21个月大的儿子共度更多时光本来是件很好的事，但是到第三天快结束时，她感觉自己要崩溃了。\n",
    "\n",
    "　　“I actually found that day really hard. I ran myself ragged,” laughs Taylor, who is a solo mother. “I hadn’t yet programmed that routine into my life. I thought: I don’t know when the next one of these is coming, I better get everything done. I don’t think I did it well, but heck it was a productive day!”\n",
    "\n",
    "　　身为单身母亲的泰勒大笑着说：“事实上，我觉得第三天很难熬。我把自己累坏了。我还没有将这种长周末纳入常规生活。我在想，不知道下一个长周末会是什么时候，所以我最好把一切事情都干完。我觉得自己干得不够好，但这一天还真是非常高效！”\n",
    "\n",
    "　　Taylor is one of 200 employees at New Zealand trustee company Perpetual Guardian, which is halfway through a six-week long trial which could have profound implications for the future of labour. Staff are working four days a week but getting paid for five.\n",
    "\n",
    "　　泰勒是新西兰信托公司Perpetual Guardian200名员工中的一位。该公司正在试行为期六周的每周四天工作制，目前正进行到一半。员工每周工作四天，但却能得到五天的薪水。这次试验可能会对劳动力的未来产生深远影响。\n",
    "\n",
    "　　The experiment began in early March and will conclude in mid-April, after which productivity data will be collated and analysed. Employees will find out if the new routine will be adopted full-time in July.\n",
    "\n",
    "　　这次试验是从三月初开始的，将在四月中旬结束，之后会整理和分析生产率数据。该工作制是否会长期实施将在7月揭晓。\n",
    "\n",
    "　　New Zealanders work an average of 1,752 hours a year, making them close to average compared with their OECD peers. Germans spend the least amount of time working annually, closely followed by Denmark, Norway and the Netherlands, while Mexicans, Koreans and Costa Ricans clock the most.\n",
    "\n",
    "　　新西兰人每年平均工作1752个小时，接近经济合作与发展组织其他成员国的平均水平。德国人每年的平均工作时间是最短的，其次是丹麦人、挪威人和荷兰人，而墨西哥人、韩国人和哥斯达黎加人的工作时间是最长的。\n",
    "\n",
    "　　Luxembourg is the most productive country in the world, despite its workers toiling away for an average of only 29 hours per week.\n",
    "\n",
    "　　卢森堡是世界上生产率最高的国家，尽管他们的劳动力每周平均工作时间只有29小时。\n",
    "\n",
    "　　Last year the Autonomy Institute made renewed calls for the implementation of a four-day week, saying it would help even out the unhealthy distribution of work and shift the focus to producing better work in a shorter time.\n",
    "\n",
    "　　去年，自治学会再次呼吁实施每周四天工作制，声称这将平衡不健康的工作分配，将重心转移到在更短时间内做出更好的业绩。\n",
    "\n",
    "　　Christine Brotherton, head of people and capability for Perpetual Guardian, said many employees brought a similar level of focus to making the most of the extra day off as they would apply to their work.\n",
    "\n",
    "　　Perpetual Guardian公司人力部主任克里斯汀·布拉泽顿说，许多员工都会将投入到工作中的同等精力投入到多出的那一天假期，以实现最大化利用。\n",
    "\n",
    "　　“People have been thinking quite hard about that third day off and how best to use it so it can change their life. Some people come back to work and are incredibly energised,” says Brotherton.\n",
    "\n",
    "　　布拉泽顿说：“人们努力地思考如何充分利用第三天假期，从而改变自己的生活。有些人回到公司工作，而且奇迹般地充满活力。”\n",
    "\n",
    "　　“People have been training for marathons, going to the dentist, getting their car serviced, or doing the shopping for their elderly parents. All the stuff that has been put on the back burner, but either helps themselves or their family. Life administration. ”\n",
    "\n",
    "　　“人们进行马拉松训练、去看牙医、把车送去保养，或为年迈的父母购物。去做所有想做但被搁置的事情，对自己或家人有用的事情。管理自己的生活。”\n",
    "\n",
    "　　“But some people haven’t quite realised that if we have three days off, the four at the office have to be very productive, and we need to address that,” she adds.\n",
    "\n",
    "　　她补充说：“但是有些人还未完全意识到，如果我们放三天假，那么工作的那四天必须效率很高，而我们需要解决这个问题。”\n",
    "\n",
    "　　Amazon is reportedly piloting a 30-hour work week for some employees. Whilst workers on the 30-hour work week receive the same benefits as full-time employees, they earn 75% of the salary – and results aren’t in yet on the pilot’s outcomes. KPMG and Deloitte offer four-day work weeks to some employees (with certain conditions attached), while Google allows some employees full control over 20% of their working week, hoping that the creative freedom will lead to new ideas and innovations.\n",
    "\n",
    "　　据报道，亚马逊正在一部分员工当中试行30小时工作周。每周工作30小时的这些员工虽然能享受和全日制员工同样的福利，但是前者的工资是后者的四分之三。目前这个试行项目还没有出结果。毕马威和德勤的某些员工可以每周工作四天，但是有一定的附加条件。谷歌则允许一些员工随心支配工作周中超过20%的时间，希望这种创作自由可以引发新想法和创意。\n",
    "\n",
    "　　Perpetual Guardian’s CEO, Andrew Barnes, a Briton, says the experiment is generating interesting data, which will be analysed by academics at two leading New Zealand universities before a decision on extending the trial is made.\n",
    "\n",
    "　　Perpetual Guardian公司的首席执行官、英国人安德鲁?巴恩斯说，这个试验正在产生有趣的数据，来自两所新西兰一流大学的学者们将对这些数据进行分析，然后再决定是否延长试行期。\n",
    "\n",
    "　　According to Barnes, some employees have found the reduced time to complete their work stressful. “People were really positive going in, then a bit negative, then positive again,” says Barnes. “In general terms, people are more positive because they are suddenly able to do things that they otherwise couldn’t do.”\n",
    "\n",
    "　　巴恩斯说，一些员工因为完成工作的时间变短而感到压力重重。他说：“刚开始人们真的很积极，然后会有点消极，接着又会变得积极。普遍来说，人们变得更积极了，因为他们突然能够做那些本来做不了的事了。”\n",
    "\n",
    "　　Supporters of reduced working hours have been cheering on the trial. “I don’t feel the pressure for it to succeed, but I think my staff do. People are telling me: we have to make this work for New Zealand,” says Barnes.\n",
    "\n",
    "　　支持缩短工作时间的人一直在为这个试验欢呼。巴恩斯说：“没有压力迫使我非把这件事做成不可，但我认为我的员工有压力。人们告诉我：为了新西兰，我们必须让这个试验成功。”\n",
    "\n",
    "　　“From my point of view, it’s very difficult as an owner of a business to see any way that this is not positive for me at the moment.”\n",
    "\n",
    "　　“从我的角度出发，作为企业主，我目前还难以看到这种工作制对我有什么不利。”\n",
    "\n",
    "　　But he expressed disappointment at the lack of interest in the trial shown by the New Zealand government, despite its potential implications for addressing issues from work/life balance and the gender pay gap to the health and mental wellbeing of working New Zealanders.\n",
    "\n",
    "　　虽然新工作制有望解决工作与生活平衡、男女收入差异以及新西兰工作者身心健康等方面的问题，但新西兰政府对此缺乏兴趣，他有些失望。\n",
    "\n",
    "　　Having survived her day of housework, Kirsten Taylor has now settled into the new routine. She loves spending more time with her son, saving money on childcare and getting through her to-do list. Her personality and “head down, bum up” work style suit the arrangement perfectly, she says.\n",
    "\n",
    "　　好不容易结束了干家务的一天，柯尔斯顿·泰勒现在适应了新常规。她喜欢和儿子共度更多时光，省下了一些托管费，也做了更多想做的事。她说，她的性格和“埋头苦干”的工作风格与新的工作制非常合拍。\n",
    "\n",
    "\n",
    "　　While her colleagues still socialise during the work day, the office space is quieter and more concentrated, and “water-cooler chats” are briefer. “I am feeling significantly better equipped when I begin the work week now,” she says.\n",
    "\n",
    "　　尽管她的同事们仍然会在工作日进行一些社交活动，但是办公室变得安静了，人们工作时的注意力更集中了，办公室里的闲聊时间也变短了。她说：“现在当我开始一周的工作时，我感觉自己精力更充沛了。”\n",
    "\n",
    "　　“[The trial] was definitely more pressurised than I would ever have expected. But now I am nervous about when it ends. I don’t know anyone who wants to return to the old routine.”\n",
    "\n",
    "　　“试验期间的工作压力肯定比我预计的更大。但现在我担心的是试行期结束了该怎么办。我认为没有人想回到过去那种工作制。”\n",
    "\n",
    "'''"
   ]
  },
  {
   "cell_type": "code",
   "execution_count": 28,
   "metadata": {
    "collapsed": false,
    "deletable": true,
    "editable": true
   },
   "outputs": [
    {
     "data": {
      "text/plain": [
       "['On the first long weekend of her employer’s experiment with a four-day working week, Kirsten Taylor freaked out a little bit',\n",
       " ' Like a housework hurricane, she got through mounds of clothes-washing, weeded the garden, cleaned the windows and mowed the lawn',\n",
       " '\\n\\n\\u3000\\u3000在公司首次试验四天工作制的第一个长周末，柯尔斯顿?泰勒感觉有点抓狂。就像经历了一场家务飓风，她洗了一大堆衣服，除了花园的杂草，擦了窗户，还修剪了草坪。\\n\\n\\u3000\\u3000It had been lovely to spend extra time with her 21-month-old son, but by the end of the third day off she was shattered',\n",
       " '\\n\\n\\u3000\\u3000能够和21个月大的儿子共度更多时光本来是件很好的事，但是到第三天快结束时，她感觉自己要崩溃了。\\n\\n\\u3000\\u3000“I actually found that day really hard',\n",
       " ' I ran myself ragged,” laughs Taylor, who is a solo mother',\n",
       " ' “I hadn’t yet programmed that routine into my life',\n",
       " ' I thought: I don’t know when the next one of these is coming, I better get everything done',\n",
       " ' I don’t think I did it well, but heck it was a productive day!”\\n\\n\\u3000\\u3000身为单身母亲的泰勒大笑着说：“事实上，我觉得第三天很难熬。我把自己累坏了。我还没有将这种长周末纳入常规生活。我在想，不知道下一个长周末会是什么时候，所以我最好把一切事情都干完。我觉得自己干得不够好，但这一天还真是非常高效！”\\n\\n\\u3000\\u3000Taylor is one of 200 employees at New Zealand trustee company Perpetual Guardian, which is halfway through a six-week long trial which could have profound implications for the future of labour',\n",
       " ' Staff are working four days a week but getting paid for five',\n",
       " '\\n\\n\\u3000\\u3000泰勒是新西兰信托公司Perpetual Guardian200名员工中的一位。该公司正在试行为期六周的每周四天工作制，目前正进行到一半。员工每周工作四天，但却能得到五天的薪水。这次试验可能会对劳动力的未来产生深远影响。\\n\\n\\u3000\\u3000The experiment began in early March and will conclude in mid-April, after which productivity data will be collated and analysed',\n",
       " ' Employees will find out if the new routine will be adopted full-time in July',\n",
       " '\\n\\n\\u3000\\u3000这次试验是从三月初开始的，将在四月中旬结束，之后会整理和分析生产率数据。该工作制是否会长期实施将在7月揭晓。\\n\\n\\u3000\\u3000New Zealanders work an average of 1,752 hours a year, making them close to average compared with their OECD peers',\n",
       " ' Germans spend the least amount of time working annually, closely followed by Denmark, Norway and the Netherlands, while Mexicans, Koreans and Costa Ricans clock the most',\n",
       " '\\n\\n\\u3000\\u3000新西兰人每年平均工作1752个小时，接近经济合作与发展组织其他成员国的平均水平。德国人每年的平均工作时间是最短的，其次是丹麦人、挪威人和荷兰人，而墨西哥人、韩国人和哥斯达黎加人的工作时间是最长的。\\n\\n\\u3000\\u3000Luxembourg is the most productive country in the world, despite its workers toiling away for an average of only 29 hours per week',\n",
       " '\\n\\n\\u3000\\u3000卢森堡是世界上生产率最高的国家，尽管他们的劳动力每周平均工作时间只有29小时。\\n\\n\\u3000\\u3000Last year the Autonomy Institute made renewed calls for the implementation of a four-day week, saying it would help even out the unhealthy distribution of work and shift the focus to producing better work in a shorter time',\n",
       " '\\n\\n\\u3000\\u3000去年，自治学会再次呼吁实施每周四天工作制，声称这将平衡不健康的工作分配，将重心转移到在更短时间内做出更好的业绩。\\n\\n\\u3000\\u3000Christine Brotherton, head of people and capability for Perpetual Guardian, said many employees brought a similar level of focus to making the most of the extra day off as they would apply to their work',\n",
       " '\\n\\n\\u3000\\u3000Perpetual Guardian公司人力部主任克里斯汀·布拉泽顿说，许多员工都会将投入到工作中的同等精力投入到多出的那一天假期，以实现最大化利用。\\n\\n\\u3000\\u3000“People have been thinking quite hard about that third day off and how best to use it so it can change their life',\n",
       " ' Some people come back to work and are incredibly energised,” says Brotherton',\n",
       " '\\n\\n\\u3000\\u3000布拉泽顿说：“人们努力地思考如何充分利用第三天假期，从而改变自己的生活。有些人回到公司工作，而且奇迹般地充满活力。”\\n\\n\\u3000\\u3000“People have been training for marathons, going to the dentist, getting their car serviced, or doing the shopping for their elderly parents',\n",
       " ' All the stuff that has been put on the back burner, but either helps themselves or their family',\n",
       " ' Life administration',\n",
       " ' ”\\n\\n\\u3000\\u3000“人们进行马拉松训练、去看牙医、把车送去保养，或为年迈的父母购物。去做所有想做但被搁置的事情，对自己或家人有用的事情。管理自己的生活。”\\n\\n\\u3000\\u3000“But some people haven’t quite realised that if we have three days off, the four at the office have to be very productive, and we need to address that,” she adds',\n",
       " '\\n\\n\\u3000\\u3000她补充说：“但是有些人还未完全意识到，如果我们放三天假，那么工作的那四天必须效率很高，而我们需要解决这个问题。”\\n\\n\\u3000\\u3000Amazon is reportedly piloting a 30-hour work week for some employees',\n",
       " ' Whilst workers on the 30-hour work week receive the same benefits as full-time employees, they earn 75% of the salary – and results aren’t in yet on the pilot’s outcomes',\n",
       " ' KPMG and Deloitte offer four-day work weeks to some employees (with certain conditions attached), while Google allows some employees full control over 20% of their working week, hoping that the creative freedom will lead to new ideas and innovations',\n",
       " '\\n\\n\\u3000\\u3000据报道，亚马逊正在一部分员工当中试行30小时工作周。每周工作30小时的这些员工虽然能享受和全日制员工同样的福利，但是前者的工资是后者的四分之三。目前这个试行项目还没有出结果。毕马威和德勤的某些员工可以每周工作四天，但是有一定的附加条件。谷歌则允许一些员工随心支配工作周中超过20%的时间，希望这种创作自由可以引发新想法和创意。\\n\\n\\u3000\\u3000Perpetual Guardian’s CEO, Andrew Barnes, a Briton, says the experiment is generating interesting data, which will be analysed by academics at two leading New Zealand universities before a decision on extending the trial is made',\n",
       " '\\n\\n\\u3000\\u3000Perpetual Guardian公司的首席执行官、英国人安德鲁?巴恩斯说，这个试验正在产生有趣的数据，来自两所新西兰一流大学的学者们将对这些数据进行分析，然后再决定是否延长试行期。\\n\\n\\u3000\\u3000According to Barnes, some employees have found the reduced time to complete their work stressful',\n",
       " ' “People were really positive going in, then a bit negative, then positive again,” says Barnes',\n",
       " ' “In general terms, people are more positive because they are suddenly able to do things that they otherwise couldn’t do',\n",
       " '”\\n\\n\\u3000\\u3000巴恩斯说，一些员工因为完成工作的时间变短而感到压力重重。他说：“刚开始人们真的很积极，然后会有点消极，接着又会变得积极。普遍来说，人们变得更积极了，因为他们突然能够做那些本来做不了的事了。”\\n\\n\\u3000\\u3000Supporters of reduced working hours have been cheering on the trial',\n",
       " ' “I don’t feel the pressure for it to succeed, but I think my staff do',\n",
       " ' People are telling me: we have to make this work for New Zealand,” says Barnes',\n",
       " '\\n\\n\\u3000\\u3000支持缩短工作时间的人一直在为这个试验欢呼。巴恩斯说：“没有压力迫使我非把这件事做成不可，但我认为我的员工有压力。人们告诉我：为了新西兰，我们必须让这个试验成功。”\\n\\n\\u3000\\u3000“From my point of view, it’s very difficult as an owner of a business to see any way that this is not positive for me at the moment',\n",
       " '”\\n\\n\\u3000\\u3000“从我的角度出发，作为企业主，我目前还难以看到这种工作制对我有什么不利。”\\n\\n\\u3000\\u3000But he expressed disappointment at the lack of interest in the trial shown by the New Zealand government, despite its potential implications for addressing issues from work/life balance and the gender pay gap to the health and mental wellbeing of working New Zealanders',\n",
       " '\\n\\n\\u3000\\u3000虽然新工作制有望解决工作与生活平衡、男女收入差异以及新西兰工作者身心健康等方面的问题，但新西兰政府对此缺乏兴趣，他有些失望。\\n\\n\\u3000\\u3000Having survived her day of housework, Kirsten Taylor has now settled into the new routine',\n",
       " ' She loves spending more time with her son, saving money on childcare and getting through her to-do list',\n",
       " ' Her personality and “head down, bum up” work style suit the arrangement perfectly, she says',\n",
       " '\\n\\n\\u3000\\u3000好不容易结束了干家务的一天，柯尔斯顿·泰勒现在适应了新常规。她喜欢和儿子共度更多时光，省下了一些托管费，也做了更多想做的事。她说，她的性格和“埋头苦干”的工作风格与新的工作制非常合拍。\\n\\n\\n\\u3000\\u3000While her colleagues still socialise during the work day, the office space is quieter and more concentrated, and “water-cooler chats” are briefer',\n",
       " ' “I am feeling significantly better equipped when I begin the work week now,” she says',\n",
       " '\\n\\n\\u3000\\u3000尽管她的同事们仍然会在工作日进行一些社交活动，但是办公室变得安静了，人们工作时的注意力更集中了，办公室里的闲聊时间也变短了。她说：“现在当我开始一周的工作时，我感觉自己精力更充沛了。”\\n\\n\\u3000\\u3000“[The trial] was definitely more pressurised than I would ever have expected',\n",
       " ' But now I am nervous about when it ends',\n",
       " ' I don’t know anyone who wants to return to the old routine',\n",
       " '”\\n\\n\\u3000\\u3000“试验期间的工作压力肯定比我预计的更大。但现在我担心的是试行期结束了该怎么办。我认为没有人想回到过去那种工作制。”\\n\\n']"
      ]
     },
     "execution_count": 28,
     "metadata": {},
     "output_type": "execute_result"
    }
   ],
   "source": [
    "para.split('.')"
   ]
  },
  {
   "cell_type": "code",
   "execution_count": 29,
   "metadata": {
    "collapsed": true,
    "deletable": true,
    "editable": true
   },
   "outputs": [],
   "source": [
    "from nltk.tokenize import sent_tokenize"
   ]
  },
  {
   "cell_type": "code",
   "execution_count": 30,
   "metadata": {
    "collapsed": false,
    "deletable": true,
    "editable": true
   },
   "outputs": [
    {
     "data": {
      "text/plain": [
       "['On the first long weekend of her employer’s experiment with a four-day working week, Kirsten Taylor freaked out a little bit.',\n",
       " 'Like a housework hurricane, she got through mounds of clothes-washing, weeded the garden, cleaned the windows and mowed the lawn.',\n",
       " '在公司首次试验四天工作制的第一个长周末，柯尔斯顿?泰勒感觉有点抓狂。就像经历了一场家务飓风，她洗了一大堆衣服，除了花园的杂草，擦了窗户，还修剪了草坪。\\n\\n\\u3000\\u3000It had been lovely to spend extra time with her 21-month-old son, but by the end of the third day off she was shattered.',\n",
       " '能够和21个月大的儿子共度更多时光本来是件很好的事，但是到第三天快结束时，她感觉自己要崩溃了。\\n\\n\\u3000\\u3000“I actually found that day really hard.',\n",
       " 'I ran myself ragged,” laughs Taylor, who is a solo mother.',\n",
       " '“I hadn’t yet programmed that routine into my life.',\n",
       " 'I thought: I don’t know when the next one of these is coming, I better get everything done.',\n",
       " 'I don’t think I did it well, but heck it was a productive day!”\\n\\n\\u3000\\u3000身为单身母亲的泰勒大笑着说：“事实上，我觉得第三天很难熬。我把自己累坏了。我还没有将这种长周末纳入常规生活。我在想，不知道下一个长周末会是什么时候，所以我最好把一切事情都干完。我觉得自己干得不够好，但这一天还真是非常高效！”\\n\\n\\u3000\\u3000Taylor is one of 200 employees at New Zealand trustee company Perpetual Guardian, which is halfway through a six-week long trial which could have profound implications for the future of labour.',\n",
       " 'Staff are working four days a week but getting paid for five.',\n",
       " '泰勒是新西兰信托公司Perpetual Guardian200名员工中的一位。该公司正在试行为期六周的每周四天工作制，目前正进行到一半。员工每周工作四天，但却能得到五天的薪水。这次试验可能会对劳动力的未来产生深远影响。\\n\\n\\u3000\\u3000The experiment began in early March and will conclude in mid-April, after which productivity data will be collated and analysed.',\n",
       " 'Employees will find out if the new routine will be adopted full-time in July.',\n",
       " '这次试验是从三月初开始的，将在四月中旬结束，之后会整理和分析生产率数据。该工作制是否会长期实施将在7月揭晓。\\n\\n\\u3000\\u3000New Zealanders work an average of 1,752 hours a year, making them close to average compared with their OECD peers.',\n",
       " 'Germans spend the least amount of time working annually, closely followed by Denmark, Norway and the Netherlands, while Mexicans, Koreans and Costa Ricans clock the most.',\n",
       " '新西兰人每年平均工作1752个小时，接近经济合作与发展组织其他成员国的平均水平。德国人每年的平均工作时间是最短的，其次是丹麦人、挪威人和荷兰人，而墨西哥人、韩国人和哥斯达黎加人的工作时间是最长的。\\n\\n\\u3000\\u3000Luxembourg is the most productive country in the world, despite its workers toiling away for an average of only 29 hours per week.',\n",
       " '卢森堡是世界上生产率最高的国家，尽管他们的劳动力每周平均工作时间只有29小时。\\n\\n\\u3000\\u3000Last year the Autonomy Institute made renewed calls for the implementation of a four-day week, saying it would help even out the unhealthy distribution of work and shift the focus to producing better work in a shorter time.',\n",
       " '去年，自治学会再次呼吁实施每周四天工作制，声称这将平衡不健康的工作分配，将重心转移到在更短时间内做出更好的业绩。\\n\\n\\u3000\\u3000Christine Brotherton, head of people and capability for Perpetual Guardian, said many employees brought a similar level of focus to making the most of the extra day off as they would apply to their work.',\n",
       " 'Perpetual Guardian公司人力部主任克里斯汀·布拉泽顿说，许多员工都会将投入到工作中的同等精力投入到多出的那一天假期，以实现最大化利用。\\n\\n\\u3000\\u3000“People have been thinking quite hard about that third day off and how best to use it so it can change their life.',\n",
       " 'Some people come back to work and are incredibly energised,” says Brotherton.',\n",
       " '布拉泽顿说：“人们努力地思考如何充分利用第三天假期，从而改变自己的生活。有些人回到公司工作，而且奇迹般地充满活力。”\\n\\n\\u3000\\u3000“People have been training for marathons, going to the dentist, getting their car serviced, or doing the shopping for their elderly parents.',\n",
       " 'All the stuff that has been put on the back burner, but either helps themselves or their family.',\n",
       " 'Life administration.',\n",
       " '”\\n\\n\\u3000\\u3000“人们进行马拉松训练、去看牙医、把车送去保养，或为年迈的父母购物。去做所有想做但被搁置的事情，对自己或家人有用的事情。管理自己的生活。”\\n\\n\\u3000\\u3000“But some people haven’t quite realised that if we have three days off, the four at the office have to be very productive, and we need to address that,” she adds.',\n",
       " '她补充说：“但是有些人还未完全意识到，如果我们放三天假，那么工作的那四天必须效率很高，而我们需要解决这个问题。”\\n\\n\\u3000\\u3000Amazon is reportedly piloting a 30-hour work week for some employees.',\n",
       " 'Whilst workers on the 30-hour work week receive the same benefits as full-time employees, they earn 75% of the salary – and results aren’t in yet on the pilot’s outcomes.',\n",
       " 'KPMG and Deloitte offer four-day work weeks to some employees (with certain conditions attached), while Google allows some employees full control over 20% of their working week, hoping that the creative freedom will lead to new ideas and innovations.',\n",
       " '据报道，亚马逊正在一部分员工当中试行30小时工作周。每周工作30小时的这些员工虽然能享受和全日制员工同样的福利，但是前者的工资是后者的四分之三。目前这个试行项目还没有出结果。毕马威和德勤的某些员工可以每周工作四天，但是有一定的附加条件。谷歌则允许一些员工随心支配工作周中超过20%的时间，希望这种创作自由可以引发新想法和创意。\\n\\n\\u3000\\u3000Perpetual Guardian’s CEO, Andrew Barnes, a Briton, says the experiment is generating interesting data, which will be analysed by academics at two leading New Zealand universities before a decision on extending the trial is made.',\n",
       " 'Perpetual Guardian公司的首席执行官、英国人安德鲁?巴恩斯说，这个试验正在产生有趣的数据，来自两所新西兰一流大学的学者们将对这些数据进行分析，然后再决定是否延长试行期。\\n\\n\\u3000\\u3000According to Barnes, some employees have found the reduced time to complete their work stressful.',\n",
       " '“People were really positive going in, then a bit negative, then positive again,” says Barnes.',\n",
       " '“In general terms, people are more positive because they are suddenly able to do things that they otherwise couldn’t do.”\\n\\n\\u3000\\u3000巴恩斯说，一些员工因为完成工作的时间变短而感到压力重重。他说：“刚开始人们真的很积极，然后会有点消极，接着又会变得积极。普遍来说，人们变得更积极了，因为他们突然能够做那些本来做不了的事了。”\\n\\n\\u3000\\u3000Supporters of reduced working hours have been cheering on the trial.',\n",
       " '“I don’t feel the pressure for it to succeed, but I think my staff do.',\n",
       " 'People are telling me: we have to make this work for New Zealand,” says Barnes.',\n",
       " '支持缩短工作时间的人一直在为这个试验欢呼。巴恩斯说：“没有压力迫使我非把这件事做成不可，但我认为我的员工有压力。人们告诉我：为了新西兰，我们必须让这个试验成功。”\\n\\n\\u3000\\u3000“From my point of view, it’s very difficult as an owner of a business to see any way that this is not positive for me at the moment.”\\n\\n\\u3000\\u3000“从我的角度出发，作为企业主，我目前还难以看到这种工作制对我有什么不利。”\\n\\n\\u3000\\u3000But he expressed disappointment at the lack of interest in the trial shown by the New Zealand government, despite its potential implications for addressing issues from work/life balance and the gender pay gap to the health and mental wellbeing of working New Zealanders.',\n",
       " '虽然新工作制有望解决工作与生活平衡、男女收入差异以及新西兰工作者身心健康等方面的问题，但新西兰政府对此缺乏兴趣，他有些失望。\\n\\n\\u3000\\u3000Having survived her day of housework, Kirsten Taylor has now settled into the new routine.',\n",
       " 'She loves spending more time with her son, saving money on childcare and getting through her to-do list.',\n",
       " 'Her personality and “head down, bum up” work style suit the arrangement perfectly, she says.',\n",
       " '好不容易结束了干家务的一天，柯尔斯顿·泰勒现在适应了新常规。她喜欢和儿子共度更多时光，省下了一些托管费，也做了更多想做的事。她说，她的性格和“埋头苦干”的工作风格与新的工作制非常合拍。\\n\\n\\n\\u3000\\u3000While her colleagues still socialise during the work day, the office space is quieter and more concentrated, and “water-cooler chats” are briefer.',\n",
       " '“I am feeling significantly better equipped when I begin the work week now,” she says.',\n",
       " '尽管她的同事们仍然会在工作日进行一些社交活动，但是办公室变得安静了，人们工作时的注意力更集中了，办公室里的闲聊时间也变短了。她说：“现在当我开始一周的工作时，我感觉自己精力更充沛了。”\\n\\n\\u3000\\u3000“[The trial] was definitely more pressurised than I would ever have expected.',\n",
       " 'But now I am nervous about when it ends.',\n",
       " 'I don’t know anyone who wants to return to the old routine.”\\n\\n\\u3000\\u3000“试验期间的工作压力肯定比我预计的更大。但现在我担心的是试行期结束了该怎么办。我认为没有人想回到过去那种工作制。”']"
      ]
     },
     "execution_count": 30,
     "metadata": {},
     "output_type": "execute_result"
    }
   ],
   "source": [
    "sent_tokenize(para)"
   ]
  },
  {
   "cell_type": "code",
   "execution_count": 31,
   "metadata": {
    "collapsed": true,
    "deletable": true,
    "editable": true
   },
   "outputs": [],
   "source": [
    "from nltk.tokenize import word_tokenize"
   ]
  },
  {
   "cell_type": "code",
   "execution_count": 32,
   "metadata": {
    "collapsed": false,
    "deletable": true,
    "editable": true
   },
   "outputs": [
    {
     "data": {
      "text/plain": [
       "['On',\n",
       " 'the',\n",
       " 'first',\n",
       " 'long',\n",
       " 'weekend',\n",
       " 'of',\n",
       " 'her',\n",
       " 'employer',\n",
       " '’',\n",
       " 's',\n",
       " 'experiment',\n",
       " 'with',\n",
       " 'a',\n",
       " 'four-day',\n",
       " 'working',\n",
       " 'week',\n",
       " ',',\n",
       " 'Kirsten',\n",
       " 'Taylor',\n",
       " 'freaked',\n",
       " 'out',\n",
       " 'a',\n",
       " 'little',\n",
       " 'bit',\n",
       " '.']"
      ]
     },
     "execution_count": 32,
     "metadata": {},
     "output_type": "execute_result"
    }
   ],
   "source": [
    "word_tokenize(sent_tokenize(para)[0])"
   ]
  },
  {
   "cell_type": "code",
   "execution_count": 33,
   "metadata": {
    "collapsed": true,
    "deletable": true,
    "editable": true
   },
   "outputs": [],
   "source": [
    "from nltk.corpus import wordnet"
   ]
  },
  {
   "cell_type": "code",
   "execution_count": 34,
   "metadata": {
    "collapsed": true,
    "deletable": true,
    "editable": true
   },
   "outputs": [],
   "source": [
    "sys=wordnet.synsets('child')[0]"
   ]
  },
  {
   "cell_type": "code",
   "execution_count": 35,
   "metadata": {
    "collapsed": false,
    "deletable": true,
    "editable": true
   },
   "outputs": [
    {
     "data": {
      "text/plain": [
       "'child.n.01'"
      ]
     },
     "execution_count": 35,
     "metadata": {},
     "output_type": "execute_result"
    }
   ],
   "source": [
    "sys.name()"
   ]
  },
  {
   "cell_type": "code",
   "execution_count": 36,
   "metadata": {
    "collapsed": true,
    "deletable": true,
    "editable": true
   },
   "outputs": [],
   "source": [
    "from nltk.corpus import wordnet as wn"
   ]
  },
  {
   "cell_type": "code",
   "execution_count": 37,
   "metadata": {
    "collapsed": true,
    "deletable": true,
    "editable": true
   },
   "outputs": [],
   "source": [
    "c=wn.synset('child.n.01')"
   ]
  },
  {
   "cell_type": "code",
   "execution_count": 38,
   "metadata": {
    "collapsed": true,
    "deletable": true,
    "editable": true
   },
   "outputs": [],
   "source": [
    "types_of_c=c.hyponyms()"
   ]
  },
  {
   "cell_type": "code",
   "execution_count": 39,
   "metadata": {
    "collapsed": false,
    "deletable": true,
    "editable": true
   },
   "outputs": [
    {
     "data": {
      "text/plain": [
       "[Synset('bairn.n.01'),\n",
       " Synset('buster.n.02'),\n",
       " Synset('changeling.n.02'),\n",
       " Synset('child_prodigy.n.01'),\n",
       " Synset('foster-child.n.01'),\n",
       " Synset('imp.n.02'),\n",
       " Synset('kiddy.n.01'),\n",
       " Synset('orphan.n.01'),\n",
       " Synset('peanut.n.03'),\n",
       " Synset('pickaninny.n.01'),\n",
       " Synset('poster_child.n.01'),\n",
       " Synset('preschooler.n.01'),\n",
       " Synset('silly.n.01'),\n",
       " Synset('sprog.n.02'),\n",
       " Synset('toddler.n.01'),\n",
       " Synset('urchin.n.01'),\n",
       " Synset('waif.n.01')]"
      ]
     },
     "execution_count": 39,
     "metadata": {},
     "output_type": "execute_result"
    }
   ],
   "source": [
    "types_of_c"
   ]
  },
  {
   "cell_type": "code",
   "execution_count": 40,
   "metadata": {
    "collapsed": true,
    "deletable": true,
    "editable": true
   },
   "outputs": [],
   "source": [
    "from nltk import FreqDist"
   ]
  },
  {
   "cell_type": "code",
   "execution_count": 41,
   "metadata": {
    "collapsed": true,
    "deletable": true,
    "editable": true
   },
   "outputs": [],
   "source": [
    "fdist1=FreqDist(para)"
   ]
  },
  {
   "cell_type": "code",
   "execution_count": 42,
   "metadata": {
    "collapsed": false,
    "deletable": true,
    "editable": true
   },
   "outputs": [
    {
     "data": {
      "text/plain": [
       "FreqDist({'\\n': 85,\n",
       "          ' ': 829,\n",
       "          '!': 1,\n",
       "          '%': 3,\n",
       "          '(': 1,\n",
       "          ')': 1,\n",
       "          ',': 52,\n",
       "          '-': 14,\n",
       "          '.': 42,\n",
       "          '/': 1,\n",
       "          '0': 10,\n",
       "          '1': 4,\n",
       "          '2': 10,\n",
       "          '3': 4,\n",
       "          '5': 3,\n",
       "          '7': 4,\n",
       "          '9': 2,\n",
       "          ':': 2,\n",
       "          '?': 2,\n",
       "          'A': 6,\n",
       "          'B': 10,\n",
       "          'C': 4,\n",
       "          'D': 3,\n",
       "          'E': 3,\n",
       "          'F': 1,\n",
       "          'G': 9,\n",
       "          'H': 2,\n",
       "          'I': 18,\n",
       "          'J': 1,\n",
       "          'K': 4,\n",
       "          'L': 4,\n",
       "          'M': 3,\n",
       "          'N': 8,\n",
       "          'O': 3,\n",
       "          'P': 11,\n",
       "          'R': 1,\n",
       "          'S': 4,\n",
       "          'T': 6,\n",
       "          'W': 2,\n",
       "          'Z': 6,\n",
       "          '[': 1,\n",
       "          ']': 1,\n",
       "          'a': 293,\n",
       "          'b': 46,\n",
       "          'c': 80,\n",
       "          'd': 164,\n",
       "          'e': 543,\n",
       "          'f': 97,\n",
       "          'g': 78,\n",
       "          'h': 190,\n",
       "          'i': 256,\n",
       "          'k': 51,\n",
       "          'l': 178,\n",
       "          'm': 89,\n",
       "          'n': 256,\n",
       "          'o': 301,\n",
       "          'p': 88,\n",
       "          'q': 4,\n",
       "          'r': 254,\n",
       "          's': 208,\n",
       "          't': 348,\n",
       "          'u': 114,\n",
       "          'v': 45,\n",
       "          'w': 107,\n",
       "          'x': 12,\n",
       "          'y': 89,\n",
       "          'z': 1,\n",
       "          '·': 2,\n",
       "          '–': 1,\n",
       "          '’': 12,\n",
       "          '“': 23,\n",
       "          '”': 23,\n",
       "          '\\u3000': 82,\n",
       "          '、': 6,\n",
       "          '。': 46,\n",
       "          '一': 19,\n",
       "          '三': 6,\n",
       "          '上': 2,\n",
       "          '下': 2,\n",
       "          '不': 7,\n",
       "          '与': 3,\n",
       "          '且': 1,\n",
       "          '世': 1,\n",
       "          '业': 2,\n",
       "          '两': 1,\n",
       "          '个': 9,\n",
       "          '中': 6,\n",
       "          '丹': 1,\n",
       "          '为': 10,\n",
       "          '主': 2,\n",
       "          '么': 4,\n",
       "          '之': 2,\n",
       "          '乏': 1,\n",
       "          '也': 2,\n",
       "          '了': 20,\n",
       "          '事': 9,\n",
       "          '五': 1,\n",
       "          '亚': 1,\n",
       "          '些': 11,\n",
       "          '交': 1,\n",
       "          '产': 4,\n",
       "          '享': 1,\n",
       "          '亲': 1,\n",
       "          '人': 21,\n",
       "          '什': 2,\n",
       "          '仍': 1,\n",
       "          '从': 3,\n",
       "          '他': 5,\n",
       "          '以': 6,\n",
       "          '们': 13,\n",
       "          '件': 3,\n",
       "          '任': 1,\n",
       "          '企': 1,\n",
       "          '会': 9,\n",
       "          '但': 11,\n",
       "          '位': 1,\n",
       "          '何': 1,\n",
       "          '作': 33,\n",
       "          '使': 1,\n",
       "          '保': 1,\n",
       "          '信': 1,\n",
       "          '修': 1,\n",
       "          '候': 1,\n",
       "          '假': 3,\n",
       "          '做': 8,\n",
       "          '健': 2,\n",
       "          '像': 1,\n",
       "          '儿': 2,\n",
       "          '允': 1,\n",
       "          '充': 4,\n",
       "          '光': 2,\n",
       "          '克': 1,\n",
       "          '入': 4,\n",
       "          '全': 2,\n",
       "          '公': 8,\n",
       "          '六': 1,\n",
       "          '兰': 7,\n",
       "          '共': 2,\n",
       "          '兴': 1,\n",
       "          '其': 2,\n",
       "          '养': 1,\n",
       "          '内': 1,\n",
       "          '再': 2,\n",
       "          '决': 3,\n",
       "          '出': 4,\n",
       "          '分': 6,\n",
       "          '切': 1,\n",
       "          '则': 1,\n",
       "          '刚': 1,\n",
       "          '创': 2,\n",
       "          '初': 1,\n",
       "          '利': 4,\n",
       "          '到': 11,\n",
       "          '制': 9,\n",
       "          '前': 4,\n",
       "          '剪': 1,\n",
       "          '力': 12,\n",
       "          '办': 3,\n",
       "          '功': 1,\n",
       "          '加': 2,\n",
       "          '务': 2,\n",
       "          '动': 3,\n",
       "          '努': 1,\n",
       "          '劳': 2,\n",
       "          '勒': 4,\n",
       "          '勤': 1,\n",
       "          '化': 1,\n",
       "          '医': 1,\n",
       "          '半': 1,\n",
       "          '单': 1,\n",
       "          '卢': 1,\n",
       "          '却': 1,\n",
       "          '历': 1,\n",
       "          '压': 4,\n",
       "          '去': 5,\n",
       "          '又': 1,\n",
       "          '及': 1,\n",
       "          '发': 3,\n",
       "          '受': 1,\n",
       "          '变': 6,\n",
       "          '只': 1,\n",
       "          '可': 4,\n",
       "          '司': 6,\n",
       "          '吁': 1,\n",
       "          '合': 2,\n",
       "          '同': 3,\n",
       "          '名': 1,\n",
       "          '后': 4,\n",
       "          '否': 2,\n",
       "          '告': 1,\n",
       "          '员': 11,\n",
       "          '周': 13,\n",
       "          '呼': 2,\n",
       "          '和': 9,\n",
       "          '响': 1,\n",
       "          '哥': 2,\n",
       "          '喜': 1,\n",
       "          '四': 8,\n",
       "          '回': 2,\n",
       "          '因': 2,\n",
       "          '园': 1,\n",
       "          '国': 5,\n",
       "          '在': 13,\n",
       "          '地': 2,\n",
       "          '场': 1,\n",
       "          '均': 4,\n",
       "          '坏': 1,\n",
       "          '坪': 1,\n",
       "          '埋': 1,\n",
       "          '堆': 1,\n",
       "          '堡': 1,\n",
       "          '墨': 1,\n",
       "          '声': 1,\n",
       "          '多': 5,\n",
       "          '够': 3,\n",
       "          '大': 6,\n",
       "          '天': 14,\n",
       "          '失': 1,\n",
       "          '头': 1,\n",
       "          '奇': 1,\n",
       "          '女': 1,\n",
       "          '她': 8,\n",
       "          '好': 5,\n",
       "          '如': 2,\n",
       "          '始': 3,\n",
       "          '威': 2,\n",
       "          '子': 2,\n",
       "          '学': 3,\n",
       "          '安': 2,\n",
       "          '完': 3,\n",
       "          '官': 1,\n",
       "          '定': 3,\n",
       "          '实': 4,\n",
       "          '室': 2,\n",
       "          '家': 4,\n",
       "          '容': 1,\n",
       "          '对': 5,\n",
       "          '将': 7,\n",
       "          '小': 4,\n",
       "          '尔': 2,\n",
       "          '就': 1,\n",
       "          '尽': 2,\n",
       "          '展': 1,\n",
       "          '崩': 1,\n",
       "          '工': 41,\n",
       "          '差': 1,\n",
       "          '己': 7,\n",
       "          '巴': 3,\n",
       "          '布': 2,\n",
       "          '希': 1,\n",
       "          '席': 1,\n",
       "          '常': 4,\n",
       "          '干': 4,\n",
       "          '平': 7,\n",
       "          '年': 4,\n",
       "          '应': 1,\n",
       "          '府': 1,\n",
       "          '度': 3,\n",
       "          '康': 2,\n",
       "          '延': 1,\n",
       "          '开': 3,\n",
       "          '异': 1,\n",
       "          '引': 1,\n",
       "          '当': 2,\n",
       "          '影': 1,\n",
       "          '很': 4,\n",
       "          '得': 7,\n",
       "          '德': 3,\n",
       "          '心': 4,\n",
       "          '必': 2,\n",
       "          '快': 1,\n",
       "          '怎': 1,\n",
       "          '思': 1,\n",
       "          '性': 1,\n",
       "          '恩': 3,\n",
       "          '情': 3,\n",
       "          '想': 5,\n",
       "          '意': 3,\n",
       "          '感': 4,\n",
       "          '成': 4,\n",
       "          '我': 21,\n",
       "          '或': 2,\n",
       "          '户': 1,\n",
       "          '所': 3,\n",
       "          '托': 2,\n",
       "          '执': 1,\n",
       "          '把': 4,\n",
       "          '抓': 1,\n",
       "          '投': 2,\n",
       "          '报': 1,\n",
       "          '担': 1,\n",
       "          '拉': 3,\n",
       "          '拍': 1,\n",
       "          '持': 1,\n",
       "          '挪': 1,\n",
       "          '据': 4,\n",
       "          '接': 2,\n",
       "          '揭': 1,\n",
       "          '搁': 1,\n",
       "          '擦': 1,\n",
       "          '支': 2,\n",
       "          '收': 1,\n",
       "          '改': 1,\n",
       "          '放': 1,\n",
       "          '政': 1,\n",
       "          '效': 2,\n",
       "          '数': 3,\n",
       "          '整': 1,\n",
       "          '斯': 7,\n",
       "          '新': 10,\n",
       "          '方': 1,\n",
       "          '施': 2,\n",
       "          '日': 2,\n",
       "          '旬': 1,\n",
       "          '时': 18,\n",
       "          '易': 1,\n",
       "          '是': 18,\n",
       "          '晓': 1,\n",
       "          '普': 1,\n",
       "          '更': 9,\n",
       "          '最': 5,\n",
       "          '月': 4,\n",
       "          '有': 17,\n",
       "          '服': 1,\n",
       "          '望': 3,\n",
       "          '期': 7,\n",
       "          '未': 2,\n",
       "          '末': 3,\n",
       "          '本': 2,\n",
       "          '杂': 1,\n",
       "          '束': 4,\n",
       "          '条': 1,\n",
       "          '来': 5,\n",
       "          '松': 1,\n",
       "          '极': 4,\n",
       "          '析': 2,\n",
       "          '果': 2,\n",
       "          '某': 1,\n",
       "          '柯': 2,\n",
       "          '样': 1,\n",
       "          '格': 2,\n",
       "          '森': 1,\n",
       "          '次': 5,\n",
       "          '欢': 2,\n",
       "          '歌': 1,\n",
       "          '正': 4,\n",
       "          '此': 1,\n",
       "          '母': 2,\n",
       "          '每': 8,\n",
       "          '比': 1,\n",
       "          '毕': 1,\n",
       "          '水': 2,\n",
       "          '汀': 1,\n",
       "          '沛': 1,\n",
       "          '没': 4,\n",
       "          '治': 1,\n",
       "          '法': 1,\n",
       "          '注': 1,\n",
       "          '泰': 4,\n",
       "          '泽': 2,\n",
       "          '洗': 1,\n",
       "          '活': 6,\n",
       "          '流': 1,\n",
       "          '济': 1,\n",
       "          '消': 1,\n",
       "          '深': 1,\n",
       "          '溃': 1,\n",
       "          '满': 1,\n",
       "          '点': 2,\n",
       "          '然': 6,\n",
       "          '熬': 1,\n",
       "          '父': 1,\n",
       "          '牙': 1,\n",
       "          '物': 1,\n",
       "          '狂': 1,\n",
       "          '率': 3,\n",
       "          '现': 4,\n",
       "          '理': 2,\n",
       "          '生': 8,\n",
       "          '用': 3,\n",
       "          '由': 1,\n",
       "          '男': 1,\n",
       "          '界': 1,\n",
       "          '的': 56,\n",
       "          '目': 4,\n",
       "          '直': 1,\n",
       "          '省': 1,\n",
       "          '看': 2,\n",
       "          '真': 2,\n",
       "          '着': 2,\n",
       "          '知': 1,\n",
       "          '短': 5,\n",
       "          '社': 1,\n",
       "          '福': 1,\n",
       "          '种': 4,\n",
       "          '积': 3,\n",
       "          '称': 1,\n",
       "          '移': 1,\n",
       "          '突': 1,\n",
       "          '窗': 1,\n",
       "          '笑': 1,\n",
       "          '第': 4,\n",
       "          '等': 2,\n",
       "          '管': 4,\n",
       "          '精': 2,\n",
       "          '累': 1,\n",
       "          '纳': 1,\n",
       "          '练': 1,\n",
       "          '组': 1,\n",
       "          '织': 1,\n",
       "          '经': 2,\n",
       "          '结': 5,\n",
       "          '绩': 1,\n",
       "          '缩': 1,\n",
       "          '缺': 1,\n",
       "          '置': 1,\n",
       "          '考': 1,\n",
       "          '者': 4,\n",
       "          '而': 5,\n",
       "          '聊': 1,\n",
       "          '肯': 1,\n",
       "          '能': 5,\n",
       "          '自': 10,\n",
       "          '般': 1,\n",
       "          '花': 1,\n",
       "          '苦': 1,\n",
       "          '英': 1,\n",
       "          '草': 2,\n",
       "          '荷': 1,\n",
       "          '薪': 1,\n",
       "          '虽': 2,\n",
       "          '行': 10,\n",
       "          '衡': 2,\n",
       "          '衣': 1,\n",
       "          '补': 1,\n",
       "          '被': 1,\n",
       "          '西': 7,\n",
       "          '要': 2,\n",
       "          '规': 2,\n",
       "          '觉': 5,\n",
       "          '角': 1,\n",
       "          '解': 2,\n",
       "          '计': 1,\n",
       "          '认': 2,\n",
       "          '让': 1,\n",
       "          '训': 1,\n",
       "          '许': 2,\n",
       "          '识': 1,\n",
       "          '诉': 1,\n",
       "          '试': 12,\n",
       "          '该': 3,\n",
       "          '说': 11,\n",
       "          '谷': 1,\n",
       "          '购': 1,\n",
       "          '费': 1,\n",
       "          '资': 1,\n",
       "          '超': 1,\n",
       "          '趣': 2,\n",
       "          '身': 3,\n",
       "          '车': 1,\n",
       "          '转': 1,\n",
       "          '达': 1,\n",
       "          '过': 2,\n",
       "          '迈': 1,\n",
       "          '近': 1,\n",
       "          '还': 6,\n",
       "          '这': 15,\n",
       "          '进': 4,\n",
       "          '远': 1,\n",
       "          '迫': 1,\n",
       "          '迹': 1,\n",
       "          '送': 1,\n",
       "          '适': 1,\n",
       "          '逊': 1,\n",
       "          '遍': 1,\n",
       "          '道': 2,\n",
       "          '那': 5,\n",
       "          '部': 2,\n",
       "          '都': 2,\n",
       "          '配': 2,\n",
       "          '里': 2,\n",
       "          '重': 3,\n",
       "          '长': 6,\n",
       "          '问': 2,\n",
       "          '闲': 1,\n",
       "          '间': 9,\n",
       "          '附': 1,\n",
       "          '除': 1,\n",
       "          '随': 1,\n",
       "          '难': 2,\n",
       "          '集': 1,\n",
       "          '需': 1,\n",
       "          '静': 1,\n",
       "          '非': 3,\n",
       "          '面': 1,\n",
       "          '韩': 1,\n",
       "          '项': 1,\n",
       "          '须': 2,\n",
       "          '顿': 4,\n",
       "          '预': 1,\n",
       "          '题': 2,\n",
       "          '风': 2,\n",
       "          '飓': 1,\n",
       "          '首': 2,\n",
       "          '马': 3,\n",
       "          '验': 7,\n",
       "          '高': 3,\n",
       "          '鲁': 1,\n",
       "          '麦': 1,\n",
       "          '黎': 1,\n",
       "          '！': 1,\n",
       "          '，': 57,\n",
       "          '：': 7})"
      ]
     },
     "execution_count": 42,
     "metadata": {},
     "output_type": "execute_result"
    }
   ],
   "source": [
    "fdist1"
   ]
  },
  {
   "cell_type": "code",
   "execution_count": 43,
   "metadata": {
    "collapsed": false,
    "deletable": true,
    "editable": true
   },
   "outputs": [
    {
     "data": {
      "text/plain": [
       "[(' ', 829), ('e', 543), ('t', 348), ('o', 301), ('a', 293)]"
      ]
     },
     "execution_count": 43,
     "metadata": {},
     "output_type": "execute_result"
    }
   ],
   "source": [
    "fdist1.most_common(5)"
   ]
  },
  {
   "cell_type": "code",
   "execution_count": 44,
   "metadata": {
    "collapsed": true,
    "deletable": true,
    "editable": true
   },
   "outputs": [],
   "source": [
    "import matplotlib"
   ]
  },
  {
   "cell_type": "code",
   "execution_count": 45,
   "metadata": {
    "collapsed": false,
    "deletable": true,
    "editable": true
   },
   "outputs": [
    {
     "data": {
      "image/png": "[encoded data removed]",
      "text/plain": [
       "<Figure size 432x288 with 1 Axes>"
      ]
     },
     "metadata": {
      "needs_background": "light"
     },
     "output_type": "display_data"
    }
   ],
   "source": [
    "fdist1.plot(5,cumulative=True)"
   ]
  },
  {
   "cell_type": "code",
   "execution_count": 46,
   "metadata": {
    "collapsed": true,
    "deletable": true,
    "editable": true
   },
   "outputs": [],
   "source": [
    "import matplotlib.pyplot as plt"
   ]
  },
  {
   "cell_type": "code",
   "execution_count": 47,
   "metadata": {
    "collapsed": false,
    "deletable": true,
    "editable": true
   },
   "outputs": [
    {
     "data": {
      "text/plain": [
       "<matplotlib.axes._subplots.AxesSubplot at 0x277103622b0>"
      ]
     },
     "execution_count": 47,
     "metadata": {},
     "output_type": "execute_result"
    },
    {
     "data": {
      "image/png": "[encoded data removed]",
      "text/plain": [
       "<Figure size 432x288 with 1 Axes>"
      ]
     },
     "metadata": {
      "needs_background": "light"
     },
     "output_type": "display_data"
    }
   ],
   "source": [
    "plt.axes(aspect=1)"
   ]
  },
  {
   "cell_type": "code",
   "execution_count": 48,
   "metadata": {
    "collapsed": true,
    "deletable": true,
    "editable": true
   },
   "outputs": [],
   "source": [
    "labels=' ','a','b','c','d'"
   ]
  },
  {
   "cell_type": "code",
   "execution_count": 49,
   "metadata": {
    "collapsed": true,
    "deletable": true,
    "editable": true
   },
   "outputs": [],
   "source": [
    "fracs=[249,158,98,94,90]"
   ]
  },
  {
   "cell_type": "code",
   "execution_count": 50,
   "metadata": {
    "collapsed": false,
    "deletable": true,
    "editable": true
   },
   "outputs": [
    {
     "data": {
      "text/plain": [
       "([<matplotlib.patches.Wedge at 0x277103ec4a8>,\n",
       "  <matplotlib.patches.Wedge at 0x277103ece80>,\n",
       "  <matplotlib.patches.Wedge at 0x277103f5860>,\n",
       "  <matplotlib.patches.Wedge at 0x27710401240>,\n",
       "  <matplotlib.patches.Wedge at 0x27710401be0>],\n",
       " [Text(-0.9973503479524061, 0.4639959950680768, ' '),\n",
       "  Text(-0.16489102996720964, -1.0875711233001513, 'a'),\n",
       "  Text(0.9354718171471409, -0.5786989539678006, 'b'),\n",
       "  Text(1.043654449837651, 0.34754192457036026, 'c'),\n",
       "  Text(0.43884105218170094, 1.0086716665595687, 'd')],\n",
       " [Text(-0.5440092807013124, 0.2530887245825873, '36.1 %'),\n",
       "  Text(-0.08994056180029615, -0.5932206127091734, '22.9 %'),\n",
       "  Text(0.5102573548075313, -0.3156539748915275, '14.2 %'),\n",
       "  Text(0.5692660635478096, 0.18956832249292374, '13.6 %'),\n",
       "  Text(0.23936784664456412, 0.5501845453961284, '13.1 %')])"
      ]
     },
     "execution_count": 50,
     "metadata": {},
     "output_type": "execute_result"
    },
    {
     "data": {
      "image/png": "[encoded data removed]",
      "text/plain": [
       "<Figure size 432x288 with 1 Axes>"
      ]
     },
     "metadata": {},
     "output_type": "display_data"
    }
   ],
   "source": [
    "plt.pie(x=fracs,labels=labels,autopct='%3.1f %%',shadow=True,labeldistance=1.1,startangle=90,pctdistance=0.6)"
   ]
  }
 ],
 "metadata": {
  "kernelspec": {
   "display_name": "Python 3",
   "language": "python",
   "name": "python3"
  },
  "language_info": {
   "codemirror_mode": {
    "name": "ipython",
    "version": 3
   },
   "file_extension": ".py",
   "mimetype": "text/x-python",
   "name": "python",
   "nbconvert_exporter": "python",
   "pygments_lexer": "ipython3",
   "version": "3.6.0"
  }
 },
 "nbformat": 4,
 "nbformat_minor": 2
}
