{
 "cells": [
  {
   "cell_type": "code",
   "execution_count": 1,
   "metadata": {
    "collapsed": true
   },
   "outputs": [],
   "source": [
    "import datetime as dt"
   ]
  },
  {
   "cell_type": "code",
   "execution_count": 3,
   "metadata": {
    "collapsed": true
   },
   "outputs": [],
   "source": [
    "#可以使用 date(year, month, day) 产生一个 date 对象：\n",
    "d1 = dt.date(2007, 9, 25)\n",
    "d2 = dt.date(2008, 9, 25)"
   ]
  },
  {
   "cell_type": "code",
   "execution_count": 5,
   "metadata": {
    "collapsed": false
   },
   "outputs": [
    {
     "name": "stdout",
     "output_type": "stream",
     "text": [
      "2007-09-25\n",
      "Tuesday, 09/25/07\n",
      "Tue, 09-25-2007\n"
     ]
    }
   ],
   "source": [
    "#可以格式化 date 对象的输出：\n",
    "print (d1)\n",
    "print (d1.strftime('%A, %m/%d/%y'))\n",
    "print (d1.strftime('%a, %m-%d-%Y'))"
   ]
  },
  {
   "cell_type": "code",
   "execution_count": 6,
   "metadata": {
    "collapsed": false
   },
   "outputs": [
    {
     "name": "stdout",
     "output_type": "stream",
     "text": [
      "366 days, 0:00:00\n"
     ]
    }
   ],
   "source": [
    "#可以看两个日期相差多久：\n",
    "print (d2 - d1)"
   ]
  },
  {
   "cell_type": "code",
   "execution_count": 7,
   "metadata": {
    "collapsed": false
   },
   "outputs": [
    {
     "name": "stdout",
     "output_type": "stream",
     "text": [
      "366\n",
      "0\n"
     ]
    }
   ],
   "source": [
    "#返回的是一个 timedelta 对象：\n",
    "d = d2 - d1\n",
    "print (d.days)\n",
    "print (d.seconds)"
   ]
  },
  {
   "cell_type": "code",
   "execution_count": 8,
   "metadata": {
    "collapsed": false
   },
   "outputs": [
    {
     "name": "stdout",
     "output_type": "stream",
     "text": [
      "2019-02-17\n"
     ]
    }
   ],
   "source": [
    "#查看今天的日期：\n",
    "print (dt.date.today())"
   ]
  },
  {
   "cell_type": "code",
   "execution_count": 9,
   "metadata": {
    "collapsed": true
   },
   "outputs": [],
   "source": [
    "#time对象"
   ]
  },
  {
   "cell_type": "code",
   "execution_count": 10,
   "metadata": {
    "collapsed": true
   },
   "outputs": [],
   "source": [
    "#可以使用 time(hour, min, sec, us) 产生一个 time 对象：\n",
    "t1 = dt.time(15, 38)\n",
    "t2 = dt.time(18)"
   ]
  },
  {
   "cell_type": "code",
   "execution_count": 11,
   "metadata": {
    "collapsed": false
   },
   "outputs": [
    {
     "name": "stdout",
     "output_type": "stream",
     "text": [
      "15:38:00\n",
      "03:38, PM\n",
      "15:38:00, PM\n"
     ]
    }
   ],
   "source": [
    "#改变显示格式：\n",
    "print (t1)\n",
    "print (t1.strftime('%I:%M, %p'))\n",
    "print (t1.strftime('%H:%M:%S, %p'))"
   ]
  },
  {
   "cell_type": "code",
   "execution_count": 12,
   "metadata": {
    "collapsed": false
   },
   "outputs": [
    {
     "name": "stdout",
     "output_type": "stream",
     "text": [
      "2019-02-17 14:02:20.404039\n"
     ]
    }
   ],
   "source": [
    "#获得当前时间：\n",
    "d1 = dt.datetime.now()\n",
    "print (d1)"
   ]
  },
  {
   "cell_type": "code",
   "execution_count": 13,
   "metadata": {
    "collapsed": false
   },
   "outputs": [
    {
     "name": "stdout",
     "output_type": "stream",
     "text": [
      "2019-03-19 14:02:20.404039\n"
     ]
    }
   ],
   "source": [
    "#给当前的时间加上 30 天，timedelta 的参数是 timedelta(day, hr, min, sec, us)：\n",
    "d2 = d1 + dt.timedelta(30)\n",
    "print (d2)"
   ]
  },
  {
   "cell_type": "code",
   "execution_count": 15,
   "metadata": {
    "collapsed": false
   },
   "outputs": [
    {
     "name": "stdout",
     "output_type": "stream",
     "text": [
      "2001-02-10 00:00:00\n"
     ]
    }
   ],
   "source": [
    "#除此之外，我们还可以通过一些指定格式的字符串来创建 datetime 对象：\n",
    "print (dt.datetime.strptime('2/10/01', '%m/%d/%y'))"
   ]
  },
  {
   "cell_type": "code",
   "execution_count": null,
   "metadata": {
    "collapsed": true
   },
   "outputs": [],
   "source": []
  }
 ],
 "metadata": {
  "kernelspec": {
   "display_name": "Python 3",
   "language": "python",
   "name": "python3"
  },
  "language_info": {
   "codemirror_mode": {
    "name": "ipython",
    "version": 3
   },
   "file_extension": ".py",
   "mimetype": "text/x-python",
   "name": "python",
   "nbconvert_exporter": "python",
   "pygments_lexer": "ipython3",
   "version": "3.6.0"
  }
 },
 "nbformat": 4,
 "nbformat_minor": 2
}
